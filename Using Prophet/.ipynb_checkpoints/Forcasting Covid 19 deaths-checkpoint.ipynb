{
 "cells": [
  {
   "cell_type": "code",
   "execution_count": 2,
   "id": "ee254d98",
   "metadata": {},
   "outputs": [],
   "source": [
    "import pandas as pd\n",
    "import numpy as np\n",
    "import matplotlib.pyplot as plt\n",
    "import plotly.express as px\n",
    "\n",
    "from prophet import Prophet\n",
    "from sklearn.metrics import r2_score\n",
    "\n",
    "plt.style.use(\"ggplot\")\n",
    "\n",
    "df0 = pd.read_csv(\"CONVENIENT_global_confirmed_cases.csv\")\n",
    "df1 = pd.read_csv(\"CONVENIENT_global_deaths.csv\")"
   ]
  },
  {
   "cell_type": "code",
   "execution_count": 3,
   "id": "04b5e3a2",
   "metadata": {},
   "outputs": [
    {
     "ename": "NameError",
     "evalue": "name 'df' is not defined",
     "output_type": "error",
     "traceback": [
      "\u001b[1;31m---------------------------------------------------------------------------\u001b[0m",
      "\u001b[1;31mNameError\u001b[0m                                 Traceback (most recent call last)",
      "Cell \u001b[1;32mIn[3], line 2\u001b[0m\n\u001b[0;32m      1\u001b[0m df_fb  \u001b[38;5;241m=\u001b[39m pd\u001b[38;5;241m.\u001b[39mDataFrame({\u001b[38;5;124m\"\u001b[39m\u001b[38;5;124mds\u001b[39m\u001b[38;5;124m\"\u001b[39m:[],\u001b[38;5;124m\"\u001b[39m\u001b[38;5;124my\u001b[39m\u001b[38;5;124m\"\u001b[39m:[]})\n\u001b[1;32m----> 2\u001b[0m df_fb[\u001b[38;5;124m\"\u001b[39m\u001b[38;5;124mds\u001b[39m\u001b[38;5;124m\"\u001b[39m] \u001b[38;5;241m=\u001b[39m pd\u001b[38;5;241m.\u001b[39mto_datetime(\u001b[43mdf\u001b[49m\u001b[38;5;241m.\u001b[39mindex)\n\u001b[0;32m      3\u001b[0m df_fb[\u001b[38;5;124m\"\u001b[39m\u001b[38;5;124my\u001b[39m\u001b[38;5;124m\"\u001b[39m]  \u001b[38;5;241m=\u001b[39m df\u001b[38;5;241m.\u001b[39miloc[:,\u001b[38;5;241m0\u001b[39m]\u001b[38;5;241m.\u001b[39mvalues\n\u001b[0;32m      5\u001b[0m model \u001b[38;5;241m=\u001b[39m Prophet(weekly_seasonality\u001b[38;5;241m=\u001b[39m\u001b[38;5;28;01mTrue\u001b[39;00m,daily_seasonality\u001b[38;5;241m=\u001b[39m\u001b[38;5;28;01mFalse\u001b[39;00m,yearly_seasonality\u001b[38;5;241m=\u001b[39m\u001b[38;5;28;01mFalse\u001b[39;00m)\n",
      "\u001b[1;31mNameError\u001b[0m: name 'df' is not defined"
     ]
    }
   ],
   "source": [
    "df_fb  = pd.DataFrame({\"ds\":[],\"y\":[]})\n",
    "df_fb[\"ds\"] = pd.to_datetime(df.index)\n",
    "df_fb[\"y\"]  = df.iloc[:,0].values\n",
    "\n",
    "model = Prophet(weekly_seasonality=True,daily_seasonality=False,yearly_seasonality=False)\n",
    "model.fit(df_fb)\n",
    "future = model.make_future_dataframe(periods=30,freq=\"D\")\n",
    "df_forecast = model.predict(future)\n",
    "#model.plot(df_forecast,xlabel=\"Years\",ylabel=\"Values\",figsize=(9,4))\n",
    "#model.plot_components(df_forecast,figsize=(9,6))\n",
    "\n",
    "forecast = df_forecast[[\"ds\",\"yhat_lower\",\"yhat_upper\",\"yhat\"]].tail(30).reset_index().set_index(\"ds\").drop(\"index\",axis=1)\n",
    "forecast[\"yhat\"].plot(marker=\".\",figsize=(10,5))\n",
    "plt.fill_between(x=forecast.index, y1=forecast[\"yhat_lower\"], y2=forecast[\"yhat_upper\"],color=\"gray\")\n",
    "plt.legend([\"forecast\",\"Bound\"],loc=\"upper left\")\n",
    "plt.title(\"Forecasting of Next 30 Days Cases\")\n",
    "plt.show()"
   ]
  },
  {
   "cell_type": "code",
   "execution_count": null,
   "id": "8edd0f39",
   "metadata": {},
   "outputs": [],
   "source": []
  },
  {
   "cell_type": "code",
   "execution_count": null,
   "id": "eefec1c8",
   "metadata": {},
   "outputs": [],
   "source": []
  }
 ],
 "metadata": {
  "kernelspec": {
   "display_name": "Python 3 (ipykernel)",
   "language": "python",
   "name": "python3"
  },
  "language_info": {
   "codemirror_mode": {
    "name": "ipython",
    "version": 3
   },
   "file_extension": ".py",
   "mimetype": "text/x-python",
   "name": "python",
   "nbconvert_exporter": "python",
   "pygments_lexer": "ipython3",
   "version": "3.8.18"
  }
 },
 "nbformat": 4,
 "nbformat_minor": 5
}
